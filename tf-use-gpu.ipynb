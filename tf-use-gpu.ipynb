{
 "cells": [
  {
   "cell_type": "markdown",
   "id": "9b9676b5-75da-4588-bf70-0fd24f5b6f99",
   "metadata": {},
   "source": [
    "# How to make use of GPU resources with TensorFlow.\n"
   ]
  },
  {
   "cell_type": "code",
   "execution_count": 2,
   "id": "428ae0f9-928c-444b-b82b-1a49dd42ff19",
   "metadata": {},
   "outputs": [
    {
     "name": "stdout",
     "output_type": "stream",
     "text": [
      "Thu Jun 16 13:26:43 2022       \n",
      "+-----------------------------------------------------------------------------+\n",
      "| NVIDIA-SMI 510.47.03    Driver Version: 510.47.03    CUDA Version: 11.6     |\n",
      "|-------------------------------+----------------------+----------------------+\n",
      "| GPU  Name        Persistence-M| Bus-Id        Disp.A | Volatile Uncorr. ECC |\n",
      "| Fan  Temp  Perf  Pwr:Usage/Cap|         Memory-Usage | GPU-Util  Compute M. |\n",
      "|                               |                      |               MIG M. |\n",
      "|===============================+======================+======================|\n",
      "|   0  Tesla T4            On   | 00000000:00:1E.0 Off |                    0 |\n",
      "| N/A   34C    P8    14W /  70W |      0MiB / 15360MiB |      0%      Default |\n",
      "|                               |                      |                  N/A |\n",
      "+-------------------------------+----------------------+----------------------+\n",
      "                                                                               \n",
      "+-----------------------------------------------------------------------------+\n",
      "| Processes:                                                                  |\n",
      "|  GPU   GI   CI        PID   Type   Process name                  GPU Memory |\n",
      "|        ID   ID                                                   Usage      |\n",
      "|=============================================================================|\n",
      "|  No running processes found                                                 |\n",
      "+-----------------------------------------------------------------------------+\n"
     ]
    }
   ],
   "source": [
    "# This shell command will list any GPU's we have access to.\n",
    "!nvidia-smi"
   ]
  },
  {
   "cell_type": "code",
   "execution_count": null,
   "id": "859dd7ad-f43c-468b-bbd8-b99cbbdbfa3a",
   "metadata": {
    "tags": []
   },
   "outputs": [],
   "source": [
    "!pip install tensorflow"
   ]
  },
  {
   "cell_type": "code",
   "execution_count": null,
   "id": "a74a4442-ccff-4253-80e1-26a91669ed90",
   "metadata": {},
   "outputs": [],
   "source": [
    "import tensorflow as tf"
   ]
  },
  {
   "cell_type": "markdown",
   "id": "131d22e8-e80a-49ff-ae57-c6aba86fee30",
   "metadata": {},
   "source": [
    "We can check to see if we have a GPU like so:"
   ]
  },
  {
   "cell_type": "code",
   "execution_count": null,
   "id": "f45553f0-1498-4d76-8f75-d615aa368bc8",
   "metadata": {},
   "outputs": [],
   "source": [
    "print(\"Num GPUs Available: \", len(tf.config.list_physical_devices('GPU')))"
   ]
  },
  {
   "cell_type": "markdown",
   "id": "372245a7-bc00-438d-80b1-e179b5419d68",
   "metadata": {},
   "source": [
    "If you are seeing 0 GPU's available, go back and ensure you have started the notebook server with the correct settings. If you are having trouble restarting the server, try File -> Hub Control Panel, like so:\n",
    "\n",
    "![image.png](docs/assets/hub_controlpanel.png)"
   ]
  },
  {
   "cell_type": "markdown",
   "id": "9c2f467d-7dd3-49fe-87a6-e4317ad67980",
   "metadata": {},
   "source": [
    "## Now we know if we have a GPU device to use - let's use it!\n",
    "\n",
    "Using a GPU device for TensorFlow operations is simpler than using PyTorch - by default, if a GPU is detected, it will be used for TensorFlow operations that support GPU implementations.\n",
    "\n",
    "For more details and additional examples look at the [TensorFlow Documentation on this subject](https://www.tensorflow.org/guide/gpu)."
   ]
  },
  {
   "cell_type": "code",
   "execution_count": null,
   "id": "35d6c004-466a-43ab-ae13-669c5b2b2ed9",
   "metadata": {},
   "outputs": [],
   "source": [
    "# This cell shows how to show what device tensorflow code is executing on.\n",
    "\n",
    "tf.debugging.set_log_device_placement(True)\n",
    "\n",
    "x = tf.constant([[4.5, 4.0, 3.0], [1.0, 1.0, 1.0]])\n",
    "y = tf.constant([[10.0, 20.0, 55.0], [1.0, 1.0, 1.0]])\n",
    "z = tf.math.add(x, y)\n",
    "\n",
    "print(z)\n",
    "\n",
    "tf.debugging.set_log_device_placement(False)"
   ]
  },
  {
   "cell_type": "code",
   "execution_count": null,
   "id": "68eefc9f-0fd7-40d6-8f5b-24083bbb94af",
   "metadata": {},
   "outputs": [],
   "source": [
    "# We can also manually choose what device to execute tf code on.\n",
    "\n",
    "tf.debugging.set_log_device_placement(True)\n",
    "\n",
    "# Place tensors on the CPU\n",
    "with tf.device('/CPU:0'):\n",
    "    a = tf.constant([[1.0, 2.0, 3.0], [4.0, 5.0, 6.0]])\n",
    "    b = tf.constant([[1.0, 2.0], [3.0, 4.0], [5.0, 6.0]])\n",
    "\n",
    "# Run on the GPU\n",
    "c = tf.matmul(a, b)\n",
    "print(c)\n",
    "print(c.device)"
   ]
  },
  {
   "cell_type": "markdown",
   "id": "928c3dff-c30c-4343-ab33-a54f7430c201",
   "metadata": {},
   "source": [
    "#### To simulate use of of multiple GPUs and distribute tasks among multiple GPUs, take a look at [this TensorFlow documentation](https://www.tensorflow.org/guide/gpu#using_multiple_gpus)."
   ]
  }
 ],
 "metadata": {
  "kernelspec": {
   "display_name": "Python 3 (ipykernel)",
   "language": "python",
   "name": "python3"
  },
  "language_info": {
   "codemirror_mode": {
    "name": "ipython",
    "version": 3
   },
   "file_extension": ".py",
   "mimetype": "text/x-python",
   "name": "python",
   "nbconvert_exporter": "python",
   "pygments_lexer": "ipython3",
   "version": "3.8.12"
  }
 },
 "nbformat": 4,
 "nbformat_minor": 5
}
